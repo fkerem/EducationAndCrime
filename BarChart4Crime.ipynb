{
 "cells": [
  {
   "cell_type": "code",
   "execution_count": 1,
   "metadata": {
    "collapsed": true
   },
   "outputs": [],
   "source": [
    "import pandas as pd\n",
    "import matplotlib as plt\n",
    "data = pd.read_csv('4countries.csv',index_col=['Country Code'])\n",
    "\n",
    "country1 = data.iloc[0] # The index of the country you have chosen, E.g. Spain\n",
    "country2 = data.iloc[1] # Index 1, Japan.\n",
    "country3 = data.iloc[2]\n",
    "country4 = data.iloc[3]\n",
    "clist = [country1,country2,country3,country4]"
   ]
  },
  {
   "cell_type": "code",
   "execution_count": 2,
   "metadata": {
    "collapsed": false
   },
   "outputs": [
    {
     "data": {
      "text/plain": [
       "[Series Name      Intentional homicides (per 100,000 people)\n",
       " Series Code                                  VC.IHR.PSRC.P5\n",
       " Country Name                                         Mexico\n",
       " 1994 [YR1994]                                            ..\n",
       " 1995 [YR1995]                                       16.9194\n",
       " 1996 [YR1996]                                       15.4541\n",
       " 1997 [YR1997]                                       14.1993\n",
       " 1998 [YR1998]                                       14.0781\n",
       " 1999 [YR1999]                                       12.4338\n",
       " 2000 [YR2000]                                          10.4\n",
       " 2001 [YR2001]                                           9.9\n",
       " 2002 [YR2002]                                           9.6\n",
       " 2003 [YR2003]                                           9.4\n",
       " 2004 [YR2004]                                           8.6\n",
       " 2005 [YR2005]                                             9\n",
       " 2006 [YR2006]                                           9.4\n",
       " 2007 [YR2007]                                           7.8\n",
       " 2008 [YR2008]                                          12.2\n",
       " 2009 [YR2009]                                            17\n",
       " 2010 [YR2010]                                          21.7\n",
       " 2011 [YR2011]                                          22.6\n",
       " 2012 [YR2012]                                          21.3\n",
       " 2013 [YR2013]                                          18.6\n",
       " 2014 [YR2014]                                          15.7\n",
       " Name: MEX, dtype: object,\n",
       " Series Name      Intentional homicides (per 100,000 people)\n",
       " Series Code                                  VC.IHR.PSRC.P5\n",
       " Country Name                                          India\n",
       " 1994 [YR1994]                                            ..\n",
       " 1995 [YR1995]                                       4.36626\n",
       " 1996 [YR1996]                                       4.39508\n",
       " 1997 [YR1997]                                       4.35247\n",
       " 1998 [YR1998]                                       4.47327\n",
       " 1999 [YR1999]                                        4.2334\n",
       " 2000 [YR2000]                                           4.5\n",
       " 2001 [YR2001]                                           4.2\n",
       " 2002 [YR2002]                                           4.1\n",
       " 2003 [YR2003]                                           3.6\n",
       " 2004 [YR2004]                                           3.7\n",
       " 2005 [YR2005]                                           3.6\n",
       " 2006 [YR2006]                                           3.6\n",
       " 2007 [YR2007]                                           3.5\n",
       " 2008 [YR2008]                                           3.5\n",
       " 2009 [YR2009]                                           3.4\n",
       " 2010 [YR2010]                                           3.4\n",
       " 2011 [YR2011]                                           3.5\n",
       " 2012 [YR2012]                                           3.4\n",
       " 2013 [YR2013]                                           3.3\n",
       " 2014 [YR2014]                                           3.2\n",
       " Name: IND, dtype: object,\n",
       " Series Name      Intentional homicides (per 100,000 people)\n",
       " Series Code                                  VC.IHR.PSRC.P5\n",
       " Country Name                                  United States\n",
       " 1994 [YR1994]                                            ..\n",
       " 1995 [YR1995]                                       8.11268\n",
       " 1996 [YR1996]                                        7.2923\n",
       " 1997 [YR1997]                                       6.67832\n",
       " 1998 [YR1998]                                       6.15031\n",
       " 1999 [YR1999]                                       5.55746\n",
       " 2000 [YR2000]                                           5.5\n",
       " 2001 [YR2001]                                           6.7\n",
       " 2002 [YR2002]                                           5.6\n",
       " 2003 [YR2003]                                           5.7\n",
       " 2004 [YR2004]                                           5.5\n",
       " 2005 [YR2005]                                            ..\n",
       " 2006 [YR2006]                                           5.8\n",
       " 2007 [YR2007]                                           5.7\n",
       " 2008 [YR2008]                                           5.4\n",
       " 2009 [YR2009]                                             5\n",
       " 2010 [YR2010]                                           4.8\n",
       " 2011 [YR2011]                                           4.7\n",
       " 2012 [YR2012]                                           4.7\n",
       " 2013 [YR2013]                                           3.9\n",
       " 2014 [YR2014]                                            ..\n",
       " Name: USA, dtype: object,\n",
       " Series Name      Intentional homicides (per 100,000 people)\n",
       " Series Code                                  VC.IHR.PSRC.P5\n",
       " Country Name                                       Colombia\n",
       " 1994 [YR1994]                                            ..\n",
       " 1995 [YR1995]                                       69.6726\n",
       " 1996 [YR1996]                                       71.7869\n",
       " 1997 [YR1997]                                       67.1845\n",
       " 1998 [YR1998]                                       60.0847\n",
       " 1999 [YR1999]                                       62.2924\n",
       " 2000 [YR2000]                                          65.7\n",
       " 2001 [YR2001]                                          67.9\n",
       " 2002 [YR2002]                                          68.3\n",
       " 2003 [YR2003]                                          53.4\n",
       " 2004 [YR2004]                                          44.6\n",
       " 2005 [YR2005]                                          39.5\n",
       " 2006 [YR2006]                                          36.8\n",
       " 2007 [YR2007]                                          34.8\n",
       " 2008 [YR2008]                                          33.2\n",
       " 2009 [YR2009]                                            34\n",
       " 2010 [YR2010]                                          32.7\n",
       " 2011 [YR2011]                                          34.1\n",
       " 2012 [YR2012]                                          31.3\n",
       " 2013 [YR2013]                                          32.6\n",
       " 2014 [YR2014]                                          27.9\n",
       " Name: COL, dtype: object]"
      ]
     },
     "execution_count": 2,
     "metadata": {},
     "output_type": "execute_result"
    }
   ],
   "source": [
    "clist"
   ]
  },
  {
   "cell_type": "code",
   "execution_count": 3,
   "metadata": {
    "collapsed": false
   },
   "outputs": [
    {
     "data": {
      "text/plain": [
       "2002 [YR2002]     9.6\n",
       "2003 [YR2003]     9.4\n",
       "2004 [YR2004]     8.6\n",
       "2005 [YR2005]       9\n",
       "2006 [YR2006]     9.4\n",
       "2007 [YR2007]     7.8\n",
       "2008 [YR2008]    12.2\n",
       "2009 [YR2009]      17\n",
       "2010 [YR2010]    21.7\n",
       "2011 [YR2011]    22.6\n",
       "2012 [YR2012]    21.3\n",
       "Name: MEX, dtype: object"
      ]
     },
     "execution_count": 3,
     "metadata": {},
     "output_type": "execute_result"
    }
   ],
   "source": [
    "clist[0][11:22]"
   ]
  },
  {
   "cell_type": "code",
   "execution_count": 4,
   "metadata": {
    "collapsed": false
   },
   "outputs": [
    {
     "data": {
      "text/plain": [
       "2004 [YR2004]     8.6\n",
       "2005 [YR2005]       9\n",
       "2006 [YR2006]     9.4\n",
       "2007 [YR2007]     7.8\n",
       "2008 [YR2008]    12.2\n",
       "2009 [YR2009]      17\n",
       "2010 [YR2010]    21.7\n",
       "2011 [YR2011]    22.6\n",
       "2012 [YR2012]    21.3\n",
       "Name: MEX, dtype: object"
      ]
     },
     "execution_count": 4,
     "metadata": {},
     "output_type": "execute_result"
    }
   ],
   "source": [
    "clist[0][13:22]"
   ]
  },
  {
   "cell_type": "code",
   "execution_count": 5,
   "metadata": {
    "collapsed": true
   },
   "outputs": [],
   "source": [
    "for t in range (0,4):\n",
    "    clist[t] = clist[t][13:22]"
   ]
  },
  {
   "cell_type": "code",
   "execution_count": 6,
   "metadata": {
    "collapsed": false
   },
   "outputs": [
    {
     "name": "stdout",
     "output_type": "stream",
     "text": [
      "[2004 [YR2004]     8.6\n",
      "2005 [YR2005]       9\n",
      "2006 [YR2006]     9.4\n",
      "2007 [YR2007]     7.8\n",
      "2008 [YR2008]    12.2\n",
      "2009 [YR2009]      17\n",
      "2010 [YR2010]    21.7\n",
      "2011 [YR2011]    22.6\n",
      "2012 [YR2012]    21.3\n",
      "Name: MEX, dtype: object, 2004 [YR2004]    3.7\n",
      "2005 [YR2005]    3.6\n",
      "2006 [YR2006]    3.6\n",
      "2007 [YR2007]    3.5\n",
      "2008 [YR2008]    3.5\n",
      "2009 [YR2009]    3.4\n",
      "2010 [YR2010]    3.4\n",
      "2011 [YR2011]    3.5\n",
      "2012 [YR2012]    3.4\n",
      "Name: IND, dtype: object, 2004 [YR2004]    5.5\n",
      "2005 [YR2005]     ..\n",
      "2006 [YR2006]    5.8\n",
      "2007 [YR2007]    5.7\n",
      "2008 [YR2008]    5.4\n",
      "2009 [YR2009]      5\n",
      "2010 [YR2010]    4.8\n",
      "2011 [YR2011]    4.7\n",
      "2012 [YR2012]    4.7\n",
      "Name: USA, dtype: object, 2004 [YR2004]    44.6\n",
      "2005 [YR2005]    39.5\n",
      "2006 [YR2006]    36.8\n",
      "2007 [YR2007]    34.8\n",
      "2008 [YR2008]    33.2\n",
      "2009 [YR2009]      34\n",
      "2010 [YR2010]    32.7\n",
      "2011 [YR2011]    34.1\n",
      "2012 [YR2012]    31.3\n",
      "Name: COL, dtype: object]\n"
     ]
    }
   ],
   "source": [
    "print(clist)"
   ]
  },
  {
   "cell_type": "code",
   "execution_count": 11,
   "metadata": {
    "collapsed": true
   },
   "outputs": [],
   "source": [
    "vc1 = []\n",
    "vc2 = []\n",
    "vc3 = []\n",
    "vc4 = []\n",
    "vc = [vc1,vc2,vc3,vc4]\n",
    "for g in range(0,4):\n",
    "    for z in range (0,9):\n",
    "        if clist[g].get_value(z) == '..':\n",
    "            nump = 0.0\n",
    "            num = float(nump)\n",
    "        else :\n",
    "            num = float(clist[g].get_value(z))\n",
    "            vc[g].append(num)"
   ]
  },
  {
   "cell_type": "code",
   "execution_count": 12,
   "metadata": {
    "collapsed": false
   },
   "outputs": [
    {
     "data": {
      "text/plain": [
       "[[8.6, 9.0, 9.4, 7.8, 12.2, 17.0, 21.7, 22.6, 21.3],\n",
       " [3.7, 3.6, 3.6, 3.5, 3.5, 3.4, 3.4, 3.5, 3.4],\n",
       " [5.5, 5.8, 5.7, 5.4, 5.0, 4.8, 4.7, 4.7],\n",
       " [44.6, 39.5, 36.8, 34.8, 33.2, 34.0, 32.7, 34.1, 31.3]]"
      ]
     },
     "execution_count": 12,
     "metadata": {},
     "output_type": "execute_result"
    }
   ],
   "source": [
    "vc"
   ]
  },
  {
   "cell_type": "code",
   "execution_count": 13,
   "metadata": {
    "collapsed": false
   },
   "outputs": [
    {
     "name": "stdout",
     "output_type": "stream",
     "text": [
      "[[8.6, 9.0, 9.4, 7.8, 12.2, 17.0, 21.7, 22.6, 21.3], [3.7, 3.6, 3.6, 3.5, 3.5, 3.4, 3.4, 3.5, 3.4], [5.5, 5.8, 5.7, 5.4, 5.0, 4.8, 4.7, 4.7], [44.6, 39.5, 36.8, 34.8, 33.2, 34.0, 32.7, 34.1, 31.3]]\n"
     ]
    }
   ],
   "source": [
    "print(vc)"
   ]
  },
  {
   "cell_type": "code",
   "execution_count": 14,
   "metadata": {
    "collapsed": true
   },
   "outputs": [],
   "source": [
    "vc1 = []\n",
    "vc2 = []\n",
    "vc3 = []\n",
    "vc4 = []\n",
    "vc = [vc1,vc2,vc3,vc4]\n",
    "for g in range(0,4):\n",
    "    for z in range (0,9):\n",
    "        if clist[g].get_value(z) == '..':\n",
    "            nump = 0.000000000000\n",
    "            num = float(nump)\n",
    "        else :\n",
    "            num = float(clist[g].get_value(z))\n",
    "            vc[g].append(num)"
   ]
  },
  {
   "cell_type": "code",
   "execution_count": 15,
   "metadata": {
    "collapsed": false
   },
   "outputs": [
    {
     "data": {
      "text/plain": [
       "[[8.6, 9.0, 9.4, 7.8, 12.2, 17.0, 21.7, 22.6, 21.3],\n",
       " [3.7, 3.6, 3.6, 3.5, 3.5, 3.4, 3.4, 3.5, 3.4],\n",
       " [5.5, 5.8, 5.7, 5.4, 5.0, 4.8, 4.7, 4.7],\n",
       " [44.6, 39.5, 36.8, 34.8, 33.2, 34.0, 32.7, 34.1, 31.3]]"
      ]
     },
     "execution_count": 15,
     "metadata": {},
     "output_type": "execute_result"
    }
   ],
   "source": [
    "vc"
   ]
  },
  {
   "cell_type": "code",
   "execution_count": 16,
   "metadata": {
    "collapsed": true
   },
   "outputs": [],
   "source": [
    "vc1 = []\n",
    "vc2 = []\n",
    "vc3 = []\n",
    "vc4 = []\n",
    "vc = [vc1,vc2,vc3,vc4]\n",
    "for g in range(0,4):\n",
    "    for z in range (0,9):\n",
    "        if clist[g].get_value(z) == '..':\n",
    "            nump = abs(0)\n",
    "            num = float(nump)\n",
    "        else :\n",
    "            num = float(clist[g].get_value(z))\n",
    "            vc[g].append(num)"
   ]
  },
  {
   "cell_type": "code",
   "execution_count": 17,
   "metadata": {
    "collapsed": false
   },
   "outputs": [
    {
     "data": {
      "text/plain": [
       "[[8.6, 9.0, 9.4, 7.8, 12.2, 17.0, 21.7, 22.6, 21.3],\n",
       " [3.7, 3.6, 3.6, 3.5, 3.5, 3.4, 3.4, 3.5, 3.4],\n",
       " [5.5, 5.8, 5.7, 5.4, 5.0, 4.8, 4.7, 4.7],\n",
       " [44.6, 39.5, 36.8, 34.8, 33.2, 34.0, 32.7, 34.1, 31.3]]"
      ]
     },
     "execution_count": 17,
     "metadata": {},
     "output_type": "execute_result"
    }
   ],
   "source": [
    "vc"
   ]
  },
  {
   "cell_type": "code",
   "execution_count": 18,
   "metadata": {
    "collapsed": true
   },
   "outputs": [],
   "source": [
    "vc1 = []\n",
    "vc2 = []\n",
    "vc3 = []\n",
    "vc4 = []\n",
    "vc = [vc1,vc2,vc3,vc4]\n",
    "for g in range(0,4):\n",
    "    for z in range (0,9):\n",
    "        if clist[g].get_value(z) == '..':\n",
    "            nump = abs(0)\n",
    "            num = float(nump)\n",
    "        else :\n",
    "            num = float(clist[g].get_value(z))\n",
    "            vc[g].append(num)"
   ]
  },
  {
   "cell_type": "code",
   "execution_count": 19,
   "metadata": {
    "collapsed": false
   },
   "outputs": [
    {
     "data": {
      "text/plain": [
       "[[8.6, 9.0, 9.4, 7.8, 12.2, 17.0, 21.7, 22.6, 21.3],\n",
       " [3.7, 3.6, 3.6, 3.5, 3.5, 3.4, 3.4, 3.5, 3.4],\n",
       " [5.5, 5.8, 5.7, 5.4, 5.0, 4.8, 4.7, 4.7],\n",
       " [44.6, 39.5, 36.8, 34.8, 33.2, 34.0, 32.7, 34.1, 31.3]]"
      ]
     },
     "execution_count": 19,
     "metadata": {},
     "output_type": "execute_result"
    }
   ],
   "source": [
    "vc"
   ]
  },
  {
   "cell_type": "code",
   "execution_count": 20,
   "metadata": {
    "collapsed": true
   },
   "outputs": [],
   "source": [
    "vc1 = []\n",
    "vc2 = []\n",
    "vc3 = []\n",
    "vc4 = []\n",
    "vc = [vc1,vc2,vc3,vc4]\n",
    "for g in range(0,4):\n",
    "    for z in range (0,9):\n",
    "        if clist[g].get_value(z) == '..':\n",
    "            nump = 5\n",
    "            num = float(nump)\n",
    "        else :\n",
    "            num = float(clist[g].get_value(z))\n",
    "            vc[g].append(num)"
   ]
  },
  {
   "cell_type": "code",
   "execution_count": 21,
   "metadata": {
    "collapsed": false
   },
   "outputs": [
    {
     "data": {
      "text/plain": [
       "[[8.6, 9.0, 9.4, 7.8, 12.2, 17.0, 21.7, 22.6, 21.3],\n",
       " [3.7, 3.6, 3.6, 3.5, 3.5, 3.4, 3.4, 3.5, 3.4],\n",
       " [5.5, 5.8, 5.7, 5.4, 5.0, 4.8, 4.7, 4.7],\n",
       " [44.6, 39.5, 36.8, 34.8, 33.2, 34.0, 32.7, 34.1, 31.3]]"
      ]
     },
     "execution_count": 21,
     "metadata": {},
     "output_type": "execute_result"
    }
   ],
   "source": [
    "vc"
   ]
  },
  {
   "cell_type": "code",
   "execution_count": 22,
   "metadata": {
    "collapsed": true
   },
   "outputs": [],
   "source": [
    "vc1 = []\n",
    "vc2 = []\n",
    "vc3 = []\n",
    "vc4 = []\n",
    "vc = [vc1,vc2,vc3,vc4]\n",
    "for g in range(0,4):\n",
    "    for z in range (0,9):\n",
    "        if clist[g].get_value(z) == '..':\n",
    "            nump = 0\n",
    "            num = float(nump)\n",
    "            vc[g].append(num)\n",
    "        else :\n",
    "            num = float(clist[g].get_value(z))\n",
    "            vc[g].append(num)"
   ]
  },
  {
   "cell_type": "code",
   "execution_count": 23,
   "metadata": {
    "collapsed": false
   },
   "outputs": [
    {
     "data": {
      "text/plain": [
       "[[8.6, 9.0, 9.4, 7.8, 12.2, 17.0, 21.7, 22.6, 21.3],\n",
       " [3.7, 3.6, 3.6, 3.5, 3.5, 3.4, 3.4, 3.5, 3.4],\n",
       " [5.5, 5.8, 5.7, 5.4, 5.0, 4.8, 4.7, 4.7],\n",
       " [44.6, 39.5, 36.8, 34.8, 33.2, 34.0, 32.7, 34.1, 31.3]]"
      ]
     },
     "execution_count": 23,
     "metadata": {},
     "output_type": "execute_result"
    }
   ],
   "source": [
    "vc"
   ]
  },
  {
   "cell_type": "code",
   "execution_count": 24,
   "metadata": {
    "collapsed": true
   },
   "outputs": [],
   "source": [
    "vc1 = []\n",
    "vc2 = []\n",
    "vc3 = []\n",
    "vc4 = []\n",
    "vc = [vc1,vc2,vc3,vc4]\n",
    "for g in range(0,4):\n",
    "    for z in range (0,9):\n",
    "        if clist[g].get_value(z) == '..':\n",
    "            nump = 0\n",
    "            num = float(nump)\n",
    "            vc[g].append(num)\n",
    "        else :\n",
    "            num = float(clist[g].get_value(z))\n",
    "            vc[g].append(num)"
   ]
  },
  {
   "cell_type": "code",
   "execution_count": 25,
   "metadata": {
    "collapsed": false
   },
   "outputs": [
    {
     "data": {
      "text/plain": [
       "[[8.6, 9.0, 9.4, 7.8, 12.2, 17.0, 21.7, 22.6, 21.3],\n",
       " [3.7, 3.6, 3.6, 3.5, 3.5, 3.4, 3.4, 3.5, 3.4],\n",
       " [5.5, 0.0, 5.8, 5.7, 5.4, 5.0, 4.8, 4.7, 4.7],\n",
       " [44.6, 39.5, 36.8, 34.8, 33.2, 34.0, 32.7, 34.1, 31.3]]"
      ]
     },
     "execution_count": 25,
     "metadata": {},
     "output_type": "execute_result"
    }
   ],
   "source": [
    "vc"
   ]
  },
  {
   "cell_type": "code",
   "execution_count": 26,
   "metadata": {
    "collapsed": false
   },
   "outputs": [
    {
     "name": "stdout",
     "output_type": "stream",
     "text": [
      "['2004 [YR2004]' '2005 [YR2005]' '2006 [YR2006]' '2007 [YR2007]'\n",
      " '2008 [YR2008]' '2009 [YR2009]' '2010 [YR2010]' '2011 [YR2011]'\n",
      " '2012 [YR2012]']\n"
     ]
    }
   ],
   "source": [
    "namelist = data.columns.values\n",
    "namelist = namelist[13:22]\n",
    "print(namelist)"
   ]
  },
  {
   "cell_type": "code",
   "execution_count": 28,
   "metadata": {
    "collapsed": true
   },
   "outputs": [],
   "source": [
    "for p in range (0,9):\n",
    "    namelist[p] = namelist[p][0:4]"
   ]
  },
  {
   "cell_type": "code",
   "execution_count": 29,
   "metadata": {
    "collapsed": false
   },
   "outputs": [
    {
     "name": "stdout",
     "output_type": "stream",
     "text": [
      "['2004' '2005' '2006' '2007' '2008' '2009' '2010' '2011' '2012']\n"
     ]
    }
   ],
   "source": [
    "print(namelist)"
   ]
  },
  {
   "cell_type": "code",
   "execution_count": 30,
   "metadata": {
    "collapsed": false
   },
   "outputs": [
    {
     "data": {
      "image/png": "[encoded data removed]",
      "text/plain": [
       "<matplotlib.figure.Figure at 0x1451b0fd0>"
      ]
     },
     "metadata": {},
     "output_type": "display_data"
    }
   ],
   "source": [
    "import numpy as np\n",
    "import matplotlib.pyplot as plt\n",
    " \n",
    "# data to plot\n",
    "n_groups = 9 # number of years\n",
    "fsize = 14\n",
    "# create plot\n",
    "fig, ax = plt.subplots(figsize=(15, 7))\n",
    "index = np.arange(n_groups)\n",
    "bar_width = 0.35 / 2\n",
    "opacity = 0.8\n",
    " \n",
    "rects1 = plt.bar(index, vc[0], bar_width,\n",
    "                 alpha=opacity,\n",
    "                 color='mediumspringgreen',\n",
    "                 label='Mexico')\n",
    " \n",
    "rects2 = plt.bar(index + bar_width, vc[3], bar_width,\n",
    "                 alpha=opacity,\n",
    "                 color='hotpink',\n",
    "                 label='Colombia')\n",
    "\n",
    "rects3 = plt.bar(index + bar_width*2, vc[2], bar_width,\n",
    "                 alpha=opacity,\n",
    "                 color='dodgerblue',\n",
    "                 label='United States')\n",
    " \n",
    "rects4 = plt.bar(index + bar_width*3, vc[1], bar_width,\n",
    "                 alpha=opacity,\n",
    "                 color='sandybrown',\n",
    "                 label='India')\n",
    " \n",
    "plt.xlabel('years', fontsize = fsize)\n",
    "plt.ylabel('Intentional homicides (per 100,000 people)', fontsize = fsize - 2)\n",
    "plt.title('Crime Rates of Countries', fontsize = fsize)\n",
    "plt.xticks(index + bar_width*3/2, namelist, fontsize = fsize)\n",
    "plt.yticks(fontsize = fsize)\n",
    "plt.legend()\n",
    " \n",
    "plt.tight_layout()\n",
    "plt.show()\n",
    "fig.savefig(\"NEWcrime4.png\")"
   ]
  },
  {
   "cell_type": "code",
   "execution_count": 2,
   "metadata": {
    "collapsed": false
   },
   "outputs": [
    {
     "data": {
      "text/html": [
       "<div>\n",
       "<table border=\"1\" class=\"dataframe\">\n",
       "  <thead>\n",
       "    <tr style=\"text-align: right;\">\n",
       "      <th></th>\n",
       "      <th>Series Name</th>\n",
       "      <th>Series Code</th>\n",
       "      <th>Country Name</th>\n",
       "      <th>1994 [YR1994]</th>\n",
       "      <th>1995 [YR1995]</th>\n",
       "      <th>1996 [YR1996]</th>\n",
       "      <th>1997 [YR1997]</th>\n",
       "      <th>1998 [YR1998]</th>\n",
       "      <th>1999 [YR1999]</th>\n",
       "      <th>2000 [YR2000]</th>\n",
       "      <th>...</th>\n",
       "      <th>2005 [YR2005]</th>\n",
       "      <th>2006 [YR2006]</th>\n",
       "      <th>2007 [YR2007]</th>\n",
       "      <th>2008 [YR2008]</th>\n",
       "      <th>2009 [YR2009]</th>\n",
       "      <th>2010 [YR2010]</th>\n",
       "      <th>2011 [YR2011]</th>\n",
       "      <th>2012 [YR2012]</th>\n",
       "      <th>2013 [YR2013]</th>\n",
       "      <th>2014 [YR2014]</th>\n",
       "    </tr>\n",
       "    <tr>\n",
       "      <th>Country Code</th>\n",
       "      <th></th>\n",
       "      <th></th>\n",
       "      <th></th>\n",
       "      <th></th>\n",
       "      <th></th>\n",
       "      <th></th>\n",
       "      <th></th>\n",
       "      <th></th>\n",
       "      <th></th>\n",
       "      <th></th>\n",
       "      <th></th>\n",
       "      <th></th>\n",
       "      <th></th>\n",
       "      <th></th>\n",
       "      <th></th>\n",
       "      <th></th>\n",
       "      <th></th>\n",
       "      <th></th>\n",
       "      <th></th>\n",
       "      <th></th>\n",
       "      <th></th>\n",
       "    </tr>\n",
       "  </thead>\n",
       "  <tbody>\n",
       "    <tr>\n",
       "      <th>MEX</th>\n",
       "      <td>Intentional homicides (per 100,000 people)</td>\n",
       "      <td>VC.IHR.PSRC.P5</td>\n",
       "      <td>Mexico</td>\n",
       "      <td>..</td>\n",
       "      <td>16.919405</td>\n",
       "      <td>15.454135</td>\n",
       "      <td>14.199297</td>\n",
       "      <td>14.078070</td>\n",
       "      <td>12.433805</td>\n",
       "      <td>10.4</td>\n",
       "      <td>...</td>\n",
       "      <td>9</td>\n",
       "      <td>9.4</td>\n",
       "      <td>7.8</td>\n",
       "      <td>12.2</td>\n",
       "      <td>17.0</td>\n",
       "      <td>21.7</td>\n",
       "      <td>22.6</td>\n",
       "      <td>21.3</td>\n",
       "      <td>18.6</td>\n",
       "      <td>15.7</td>\n",
       "    </tr>\n",
       "    <tr>\n",
       "      <th>IND</th>\n",
       "      <td>Intentional homicides (per 100,000 people)</td>\n",
       "      <td>VC.IHR.PSRC.P5</td>\n",
       "      <td>India</td>\n",
       "      <td>..</td>\n",
       "      <td>4.366263</td>\n",
       "      <td>4.395080</td>\n",
       "      <td>4.352471</td>\n",
       "      <td>4.473274</td>\n",
       "      <td>4.233402</td>\n",
       "      <td>4.5</td>\n",
       "      <td>...</td>\n",
       "      <td>3.6</td>\n",
       "      <td>3.6</td>\n",
       "      <td>3.5</td>\n",
       "      <td>3.5</td>\n",
       "      <td>3.4</td>\n",
       "      <td>3.4</td>\n",
       "      <td>3.5</td>\n",
       "      <td>3.4</td>\n",
       "      <td>3.3</td>\n",
       "      <td>3.2</td>\n",
       "    </tr>\n",
       "    <tr>\n",
       "      <th>USA</th>\n",
       "      <td>Intentional homicides (per 100,000 people)</td>\n",
       "      <td>VC.IHR.PSRC.P5</td>\n",
       "      <td>United States</td>\n",
       "      <td>..</td>\n",
       "      <td>8.112683</td>\n",
       "      <td>7.292303</td>\n",
       "      <td>6.678322</td>\n",
       "      <td>6.150310</td>\n",
       "      <td>5.557464</td>\n",
       "      <td>5.5</td>\n",
       "      <td>...</td>\n",
       "      <td>..</td>\n",
       "      <td>5.8</td>\n",
       "      <td>5.7</td>\n",
       "      <td>5.4</td>\n",
       "      <td>5.0</td>\n",
       "      <td>4.8</td>\n",
       "      <td>4.7</td>\n",
       "      <td>4.7</td>\n",
       "      <td>3.9</td>\n",
       "      <td>..</td>\n",
       "    </tr>\n",
       "    <tr>\n",
       "      <th>COL</th>\n",
       "      <td>Intentional homicides (per 100,000 people)</td>\n",
       "      <td>VC.IHR.PSRC.P5</td>\n",
       "      <td>Colombia</td>\n",
       "      <td>..</td>\n",
       "      <td>69.672634</td>\n",
       "      <td>71.786900</td>\n",
       "      <td>67.184550</td>\n",
       "      <td>60.084655</td>\n",
       "      <td>62.292449</td>\n",
       "      <td>65.7</td>\n",
       "      <td>...</td>\n",
       "      <td>39.5</td>\n",
       "      <td>36.8</td>\n",
       "      <td>34.8</td>\n",
       "      <td>33.2</td>\n",
       "      <td>34.0</td>\n",
       "      <td>32.7</td>\n",
       "      <td>34.1</td>\n",
       "      <td>31.3</td>\n",
       "      <td>32.6</td>\n",
       "      <td>27.9</td>\n",
       "    </tr>\n",
       "    <tr>\n",
       "      <th>NaN</th>\n",
       "      <td>NaN</td>\n",
       "      <td>NaN</td>\n",
       "      <td>NaN</td>\n",
       "      <td>NaN</td>\n",
       "      <td>NaN</td>\n",
       "      <td>NaN</td>\n",
       "      <td>NaN</td>\n",
       "      <td>NaN</td>\n",
       "      <td>NaN</td>\n",
       "      <td>NaN</td>\n",
       "      <td>...</td>\n",
       "      <td>NaN</td>\n",
       "      <td>NaN</td>\n",
       "      <td>NaN</td>\n",
       "      <td>NaN</td>\n",
       "      <td>NaN</td>\n",
       "      <td>NaN</td>\n",
       "      <td>NaN</td>\n",
       "      <td>NaN</td>\n",
       "      <td>NaN</td>\n",
       "      <td>NaN</td>\n",
       "    </tr>\n",
       "    <tr>\n",
       "      <th>NaN</th>\n",
       "      <td>NaN</td>\n",
       "      <td>NaN</td>\n",
       "      <td>NaN</td>\n",
       "      <td>NaN</td>\n",
       "      <td>NaN</td>\n",
       "      <td>NaN</td>\n",
       "      <td>NaN</td>\n",
       "      <td>NaN</td>\n",
       "      <td>NaN</td>\n",
       "      <td>NaN</td>\n",
       "      <td>...</td>\n",
       "      <td>NaN</td>\n",
       "      <td>NaN</td>\n",
       "      <td>NaN</td>\n",
       "      <td>NaN</td>\n",
       "      <td>NaN</td>\n",
       "      <td>NaN</td>\n",
       "      <td>NaN</td>\n",
       "      <td>NaN</td>\n",
       "      <td>NaN</td>\n",
       "      <td>NaN</td>\n",
       "    </tr>\n",
       "    <tr>\n",
       "      <th>NaN</th>\n",
       "      <td>NaN</td>\n",
       "      <td>NaN</td>\n",
       "      <td>NaN</td>\n",
       "      <td>NaN</td>\n",
       "      <td>NaN</td>\n",
       "      <td>NaN</td>\n",
       "      <td>NaN</td>\n",
       "      <td>NaN</td>\n",
       "      <td>NaN</td>\n",
       "      <td>NaN</td>\n",
       "      <td>...</td>\n",
       "      <td>NaN</td>\n",
       "      <td>NaN</td>\n",
       "      <td>NaN</td>\n",
       "      <td>NaN</td>\n",
       "      <td>NaN</td>\n",
       "      <td>NaN</td>\n",
       "      <td>NaN</td>\n",
       "      <td>NaN</td>\n",
       "      <td>NaN</td>\n",
       "      <td>NaN</td>\n",
       "    </tr>\n",
       "    <tr>\n",
       "      <th>NaN</th>\n",
       "      <td>Data from database: World Development Indicators</td>\n",
       "      <td>NaN</td>\n",
       "      <td>NaN</td>\n",
       "      <td>NaN</td>\n",
       "      <td>NaN</td>\n",
       "      <td>NaN</td>\n",
       "      <td>NaN</td>\n",
       "      <td>NaN</td>\n",
       "      <td>NaN</td>\n",
       "      <td>NaN</td>\n",
       "      <td>...</td>\n",
       "      <td>NaN</td>\n",
       "      <td>NaN</td>\n",
       "      <td>NaN</td>\n",
       "      <td>NaN</td>\n",
       "      <td>NaN</td>\n",
       "      <td>NaN</td>\n",
       "      <td>NaN</td>\n",
       "      <td>NaN</td>\n",
       "      <td>NaN</td>\n",
       "      <td>NaN</td>\n",
       "    </tr>\n",
       "    <tr>\n",
       "      <th>NaN</th>\n",
       "      <td>Last Updated: 03/23/2017</td>\n",
       "      <td>NaN</td>\n",
       "      <td>NaN</td>\n",
       "      <td>NaN</td>\n",
       "      <td>NaN</td>\n",
       "      <td>NaN</td>\n",
       "      <td>NaN</td>\n",
       "      <td>NaN</td>\n",
       "      <td>NaN</td>\n",
       "      <td>NaN</td>\n",
       "      <td>...</td>\n",
       "      <td>NaN</td>\n",
       "      <td>NaN</td>\n",
       "      <td>NaN</td>\n",
       "      <td>NaN</td>\n",
       "      <td>NaN</td>\n",
       "      <td>NaN</td>\n",
       "      <td>NaN</td>\n",
       "      <td>NaN</td>\n",
       "      <td>NaN</td>\n",
       "      <td>NaN</td>\n",
       "    </tr>\n",
       "  </tbody>\n",
       "</table>\n",
       "<p>9 rows × 24 columns</p>\n",
       "</div>"
      ],
      "text/plain": [
       "                                                   Series Name  \\\n",
       "Country Code                                                     \n",
       "MEX                 Intentional homicides (per 100,000 people)   \n",
       "IND                 Intentional homicides (per 100,000 people)   \n",
       "USA                 Intentional homicides (per 100,000 people)   \n",
       "COL                 Intentional homicides (per 100,000 people)   \n",
       "NaN                                                        NaN   \n",
       "NaN                                                        NaN   \n",
       "NaN                                                        NaN   \n",
       "NaN           Data from database: World Development Indicators   \n",
       "NaN                                   Last Updated: 03/23/2017   \n",
       "\n",
       "                 Series Code   Country Name 1994 [YR1994]  1995 [YR1995]  \\\n",
       "Country Code                                                               \n",
       "MEX           VC.IHR.PSRC.P5         Mexico            ..      16.919405   \n",
       "IND           VC.IHR.PSRC.P5          India            ..       4.366263   \n",
       "USA           VC.IHR.PSRC.P5  United States            ..       8.112683   \n",
       "COL           VC.IHR.PSRC.P5       Colombia            ..      69.672634   \n",
       "NaN                      NaN            NaN           NaN            NaN   \n",
       "NaN                      NaN            NaN           NaN            NaN   \n",
       "NaN                      NaN            NaN           NaN            NaN   \n",
       "NaN                      NaN            NaN           NaN            NaN   \n",
       "NaN                      NaN            NaN           NaN            NaN   \n",
       "\n",
       "              1996 [YR1996]  1997 [YR1997]  1998 [YR1998]  1999 [YR1999]  \\\n",
       "Country Code                                                               \n",
       "MEX               15.454135      14.199297      14.078070      12.433805   \n",
       "IND                4.395080       4.352471       4.473274       4.233402   \n",
       "USA                7.292303       6.678322       6.150310       5.557464   \n",
       "COL               71.786900      67.184550      60.084655      62.292449   \n",
       "NaN                     NaN            NaN            NaN            NaN   \n",
       "NaN                     NaN            NaN            NaN            NaN   \n",
       "NaN                     NaN            NaN            NaN            NaN   \n",
       "NaN                     NaN            NaN            NaN            NaN   \n",
       "NaN                     NaN            NaN            NaN            NaN   \n",
       "\n",
       "              2000 [YR2000]      ...        2005 [YR2005]  2006 [YR2006]  \\\n",
       "Country Code                     ...                                       \n",
       "MEX                    10.4      ...                    9            9.4   \n",
       "IND                     4.5      ...                  3.6            3.6   \n",
       "USA                     5.5      ...                   ..            5.8   \n",
       "COL                    65.7      ...                 39.5           36.8   \n",
       "NaN                     NaN      ...                  NaN            NaN   \n",
       "NaN                     NaN      ...                  NaN            NaN   \n",
       "NaN                     NaN      ...                  NaN            NaN   \n",
       "NaN                     NaN      ...                  NaN            NaN   \n",
       "NaN                     NaN      ...                  NaN            NaN   \n",
       "\n",
       "              2007 [YR2007]  2008 [YR2008] 2009 [YR2009]  2010 [YR2010]  \\\n",
       "Country Code                                                              \n",
       "MEX                     7.8           12.2          17.0           21.7   \n",
       "IND                     3.5            3.5           3.4            3.4   \n",
       "USA                     5.7            5.4           5.0            4.8   \n",
       "COL                    34.8           33.2          34.0           32.7   \n",
       "NaN                     NaN            NaN           NaN            NaN   \n",
       "NaN                     NaN            NaN           NaN            NaN   \n",
       "NaN                     NaN            NaN           NaN            NaN   \n",
       "NaN                     NaN            NaN           NaN            NaN   \n",
       "NaN                     NaN            NaN           NaN            NaN   \n",
       "\n",
       "              2011 [YR2011]  2012 [YR2012]  2013 [YR2013]  2014 [YR2014]  \n",
       "Country Code                                                              \n",
       "MEX                    22.6           21.3           18.6           15.7  \n",
       "IND                     3.5            3.4            3.3            3.2  \n",
       "USA                     4.7            4.7            3.9             ..  \n",
       "COL                    34.1           31.3           32.6           27.9  \n",
       "NaN                     NaN            NaN            NaN            NaN  \n",
       "NaN                     NaN            NaN            NaN            NaN  \n",
       "NaN                     NaN            NaN            NaN            NaN  \n",
       "NaN                     NaN            NaN            NaN            NaN  \n",
       "NaN                     NaN            NaN            NaN            NaN  \n",
       "\n",
       "[9 rows x 24 columns]"
      ]
     },
     "execution_count": 2,
     "metadata": {},
     "output_type": "execute_result"
    }
   ],
   "source": [
    "import pandas as pd\n",
    "import matplotlib as plt\n",
    "data = pd.read_csv('4countries.csv',index_col=['Country Code'])\n",
    "data"
   ]
  },
  {
   "cell_type": "code",
   "execution_count": null,
   "metadata": {
    "collapsed": true
   },
   "outputs": [],
   "source": []
  }
 ],
 "metadata": {
  "kernelspec": {
   "display_name": "Python 3",
   "language": "python",
   "name": "python3"
  },
  "language_info": {
   "codemirror_mode": {
    "name": "ipython",
    "version": 3
   },
   "file_extension": ".py",
   "mimetype": "text/x-python",
   "name": "python",
   "nbconvert_exporter": "python",
   "pygments_lexer": "ipython3",
   "version": "3.6.0"
  }
 },
 "nbformat": 4,
 "nbformat_minor": 2
}
