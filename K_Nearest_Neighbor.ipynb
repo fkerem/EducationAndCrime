{
 "cells": [
  {
   "cell_type": "code",
   "execution_count": 1,
   "metadata": {
    "collapsed": true
   },
   "outputs": [],
   "source": [
    "from sklearn import neighbors\n",
    "import numpy as np\n",
    "import matplotlib.pyplot as plt\n",
    "import pandas as pd\n",
    "%matplotlib inline"
   ]
  },
  {
   "cell_type": "code",
   "execution_count": 2,
   "metadata": {
    "collapsed": true
   },
   "outputs": [],
   "source": [
    "crime83 = pd.read_csv(\"83crime.csv\")\n",
    "arrcr83 = crime83[\"2012 [YR2012]\"]\n",
    "arrcr83 = arrcr83.head(83)"
   ]
  },
  {
   "cell_type": "code",
   "execution_count": 3,
   "metadata": {
    "collapsed": true
   },
   "outputs": [],
   "source": [
    "education83 = pd.read_csv(\"83educ.csv\")\n",
    "arreduc83 = education83[\"2012 [YR2012]\"]\n",
    "arreduc83 = arreduc83.head(83)"
   ]
  },
  {
   "cell_type": "code",
   "execution_count": 4,
   "metadata": {
    "collapsed": true
   },
   "outputs": [],
   "source": [
    "array = []\n",
    "for i in range (0, 83):\n",
    "    newarr = []\n",
    "    x = arreduc83[i]\n",
    "    y = arrcr83[i]\n",
    "    newarr.append(x)\n",
    "    newarr.append(y)\n",
    "    array.append(newarr)\n",
    "trainData = np.array(array)"
   ]
  },
  {
   "cell_type": "code",
   "execution_count": 5,
   "metadata": {
    "collapsed": false
   },
   "outputs": [
    {
     "data": {
      "text/plain": [
       "array([[  5.85654907e+01,   5.50000000e+00],\n",
       "       [  3.22313309e+01,   1.29999995e+00],\n",
       "       [  4.39144783e+01,   2.20000005e+00],\n",
       "       [  8.54139175e+01,   1.10000002e+00],\n",
       "       [  7.23148804e+01,   1.00000000e+00],\n",
       "       [  2.04384594e+01,   2.20000005e+00],\n",
       "       [  9.04371338e+01,   3.59999990e+00],\n",
       "       [  7.12443695e+01,   1.79999995e+00],\n",
       "       [  2.43328991e+01,   4.30999985e+01],\n",
       "       [  3.08026009e+01,   7.90000010e+00],\n",
       "       [  9.44130039e+00,   3.90000010e+00],\n",
       "       [  4.10937805e+01,   1.60000002e+00],\n",
       "       [  4.52390213e+01,   2.37999992e+01],\n",
       "       [  6.27413406e+01,   1.89999998e+00],\n",
       "       [  7.94469070e+01,   2.50000000e+00],\n",
       "       [  2.71844292e+01,   8.00000012e-01],\n",
       "       [  4.62157516e+01,   3.12999992e+01],\n",
       "       [  4.93247414e+01,   8.69999981e+00],\n",
       "       [  6.16672096e+01,   1.20000005e+00],\n",
       "       [  4.58635902e+01,   1.89999998e+00],\n",
       "       [  6.58619690e+01,   1.00000001e-01],\n",
       "       [  7.92526321e+01,   6.99999988e-01],\n",
       "       [  4.67269287e+01,   2.22999992e+01],\n",
       "       [  3.98635101e+01,   1.25000000e+01],\n",
       "       [  2.86289692e+01,   4.27000008e+01],\n",
       "       [  7.21018295e+01,   4.80000019e+00],\n",
       "       [  8.14472961e+00,   8.00000000e+00],\n",
       "       [  9.32806320e+01,   1.60000002e+00],\n",
       "       [  5.99876289e+01,   1.20000005e+00],\n",
       "       [  3.10427999e+00,   9.39999962e+00],\n",
       "       [  1.10263123e+02,   1.50000000e+00],\n",
       "       [  6.05862885e+01,   4.00000006e-01],\n",
       "       [  5.97973099e+01,   1.20000005e+00],\n",
       "       [  8.22275772e+01,   3.00000012e-01],\n",
       "       [  2.43653297e+01,   3.40000010e+00],\n",
       "       [  3.06563301e+01,   6.00000024e-01],\n",
       "       [  5.48990593e+01,   4.80000019e+00],\n",
       "       [  6.76353073e+01,   1.20000005e+00],\n",
       "       [  6.77953262e+01,   1.70000005e+00],\n",
       "       [  6.50344391e+01,   8.99999976e-01],\n",
       "       [  2.90617695e+01,   3.97999992e+01],\n",
       "       [  6.14581718e+01,   3.00000012e-01],\n",
       "       [  4.75863113e+01,   2.29999995e+00],\n",
       "       [  5.13237915e+01,   8.69999981e+00],\n",
       "       [  9.71169815e+01,   8.00000012e-01],\n",
       "       [  6.55607071e+01,   4.80000019e+00],\n",
       "       [  7.72318192e+01,   6.69999981e+00],\n",
       "       [  1.94074097e+01,   0.00000000e+00],\n",
       "       [  5.60306892e+01,   1.29999995e+00],\n",
       "       [  4.08461113e+01,   1.39999998e+00],\n",
       "       [  4.55335808e+01,   2.90000010e+00],\n",
       "       [  2.83074398e+01,   2.12999992e+01],\n",
       "       [  4.01086388e+01,   5.59999990e+00],\n",
       "       [  5.87387085e+01,   7.09999990e+00],\n",
       "       [  1.92878494e+01,   1.20000005e+00],\n",
       "       [  7.85010681e+01,   8.99999976e-01],\n",
       "       [  8.08433533e+01,   8.99999976e-01],\n",
       "       [  7.32514572e+01,   5.00000000e-01],\n",
       "       [  4.41498909e+01,   1.75000000e+01],\n",
       "       [  3.12987404e+01,   8.80000019e+00],\n",
       "       [  7.28483887e+01,   9.90000010e-01],\n",
       "       [  6.85855408e+01,   1.20000005e+00],\n",
       "       [  8.65650101e+01,   2.65000000e+01],\n",
       "       [  1.19321899e+01,   7.19999981e+00],\n",
       "       [  5.45209808e+01,   1.89999998e+00],\n",
       "       [  7.61146469e+01,   9.19999981e+00],\n",
       "       [  4.85623093e+01,   6.19999981e+00],\n",
       "       [  5.35000305e+01,   1.20000005e+00],\n",
       "       [  5.60469894e+01,   1.39999998e+00],\n",
       "       [  8.63231506e+01,   6.99999988e-01],\n",
       "       [  1.89940395e+01,   3.07999992e+01],\n",
       "       [  8.55459900e+01,   8.00000012e-01],\n",
       "       [  1.71624393e+01,   3.29999995e+00],\n",
       "       [  1.01777897e+01,   2.16000004e+01],\n",
       "       [  6.96160736e+01,   6.99999988e-01],\n",
       "       [  5.54999008e+01,   6.00000024e-01],\n",
       "       [  5.15691605e+01,   4.90000010e+00],\n",
       "       [  3.51769981e+01,   3.09999990e+00],\n",
       "       [  6.93019485e+01,   4.30000019e+00],\n",
       "       [  5.92231407e+01,   1.00000000e+00],\n",
       "       [  9.48422775e+01,   4.69999981e+00],\n",
       "       [  4.81798210e+01,   6.00000024e-01],\n",
       "       [  5.86866999e+00,   6.69999981e+00]], dtype=float32)"
      ]
     },
     "execution_count": 5,
     "metadata": {},
     "output_type": "execute_result"
    }
   ],
   "source": [
    "trainData = trainData.astype(np.float32)\n",
    "trainData"
   ]
  },
  {
   "cell_type": "code",
   "execution_count": 6,
   "metadata": {
    "collapsed": true
   },
   "outputs": [],
   "source": [
    "responses = np.random.randint(0,2,(83,1)).astype(np.float32)"
   ]
  },
  {
   "cell_type": "code",
   "execution_count": 7,
   "metadata": {
    "collapsed": true
   },
   "outputs": [],
   "source": [
    "# Take red series\n",
    "red = trainData[responses.ravel()==0]\n",
    "\n",
    "# Take blue series\n",
    "blue = trainData[responses.ravel()==1]"
   ]
  },
  {
   "cell_type": "code",
   "execution_count": 8,
   "metadata": {
    "collapsed": true
   },
   "outputs": [],
   "source": [
    "colorCode = {0:\"Red\", 1:\"Blue\"}"
   ]
  },
  {
   "cell_type": "code",
   "execution_count": 9,
   "metadata": {
    "collapsed": false
   },
   "outputs": [
    {
     "data": {
      "text/plain": [
       "array([ 0.,  0.,  0.,  1.,  0.,  0.,  1.,  1.,  1.,  1.,  0.,  1.,  0.,\n",
       "        0.,  1.,  1.,  0.,  0.,  1.,  0.,  0.,  1.,  0.,  0.,  1.,  1.,\n",
       "        1.,  0.,  0.,  0.,  0.,  1.,  0.,  1.,  1.,  1.,  1.,  0.,  1.,\n",
       "        0.,  0.,  1.,  0.,  0.,  0.,  0.,  0.,  0.,  0.,  0.,  1.,  0.,\n",
       "        0.,  0.,  0.,  0.,  1.,  0.,  0.,  0.,  0.,  0.,  1.,  0.,  1.,\n",
       "        1.,  1.,  0.,  0.,  0.,  1.,  1.,  1.,  1.,  0.,  1.,  1.,  0.,\n",
       "        1.,  0.,  0.,  1.,  0.], dtype=float32)"
      ]
     },
     "execution_count": 9,
     "metadata": {},
     "output_type": "execute_result"
    }
   ],
   "source": [
    "responses.ravel()"
   ]
  },
  {
   "cell_type": "code",
   "execution_count": 10,
   "metadata": {
    "collapsed": false
   },
   "outputs": [
    {
     "data": {
      "text/plain": [
       "array([[  5.85654907e+01,   5.50000000e+00],\n",
       "       [  3.22313309e+01,   1.29999995e+00],\n",
       "       [  4.39144783e+01,   2.20000005e+00],\n",
       "       [  7.23148804e+01,   1.00000000e+00],\n",
       "       [  2.04384594e+01,   2.20000005e+00],\n",
       "       [  9.44130039e+00,   3.90000010e+00],\n",
       "       [  4.52390213e+01,   2.37999992e+01],\n",
       "       [  6.27413406e+01,   1.89999998e+00],\n",
       "       [  4.62157516e+01,   3.12999992e+01],\n",
       "       [  4.93247414e+01,   8.69999981e+00],\n",
       "       [  4.58635902e+01,   1.89999998e+00],\n",
       "       [  6.58619690e+01,   1.00000001e-01],\n",
       "       [  4.67269287e+01,   2.22999992e+01],\n",
       "       [  3.98635101e+01,   1.25000000e+01],\n",
       "       [  9.32806320e+01,   1.60000002e+00],\n",
       "       [  5.99876289e+01,   1.20000005e+00],\n",
       "       [  3.10427999e+00,   9.39999962e+00],\n",
       "       [  1.10263123e+02,   1.50000000e+00],\n",
       "       [  5.97973099e+01,   1.20000005e+00],\n",
       "       [  6.76353073e+01,   1.20000005e+00],\n",
       "       [  6.50344391e+01,   8.99999976e-01],\n",
       "       [  2.90617695e+01,   3.97999992e+01],\n",
       "       [  4.75863113e+01,   2.29999995e+00],\n",
       "       [  5.13237915e+01,   8.69999981e+00],\n",
       "       [  9.71169815e+01,   8.00000012e-01],\n",
       "       [  6.55607071e+01,   4.80000019e+00],\n",
       "       [  7.72318192e+01,   6.69999981e+00],\n",
       "       [  1.94074097e+01,   0.00000000e+00],\n",
       "       [  5.60306892e+01,   1.29999995e+00],\n",
       "       [  4.08461113e+01,   1.39999998e+00],\n",
       "       [  2.83074398e+01,   2.12999992e+01],\n",
       "       [  4.01086388e+01,   5.59999990e+00],\n",
       "       [  5.87387085e+01,   7.09999990e+00],\n",
       "       [  1.92878494e+01,   1.20000005e+00],\n",
       "       [  7.85010681e+01,   8.99999976e-01],\n",
       "       [  7.32514572e+01,   5.00000000e-01],\n",
       "       [  4.41498909e+01,   1.75000000e+01],\n",
       "       [  3.12987404e+01,   8.80000019e+00],\n",
       "       [  7.28483887e+01,   9.90000010e-01],\n",
       "       [  6.85855408e+01,   1.20000005e+00],\n",
       "       [  1.19321899e+01,   7.19999981e+00],\n",
       "       [  5.35000305e+01,   1.20000005e+00],\n",
       "       [  5.60469894e+01,   1.39999998e+00],\n",
       "       [  8.63231506e+01,   6.99999988e-01],\n",
       "       [  6.96160736e+01,   6.99999988e-01],\n",
       "       [  3.51769981e+01,   3.09999990e+00],\n",
       "       [  5.92231407e+01,   1.00000000e+00],\n",
       "       [  9.48422775e+01,   4.69999981e+00],\n",
       "       [  5.86866999e+00,   6.69999981e+00]], dtype=float32)"
      ]
     },
     "execution_count": 10,
     "metadata": {},
     "output_type": "execute_result"
    }
   ],
   "source": [
    "red"
   ]
  },
  {
   "cell_type": "code",
   "execution_count": 11,
   "metadata": {
    "collapsed": false
   },
   "outputs": [
    {
     "data": {
      "text/plain": [
       "array([[ 85.41391754,   1.10000002],\n",
       "       [ 90.43713379,   3.5999999 ],\n",
       "       [ 71.24436951,   1.79999995],\n",
       "       [ 24.33289909,  43.09999847],\n",
       "       [ 30.80260086,   7.9000001 ],\n",
       "       [ 41.09378052,   1.60000002],\n",
       "       [ 79.44690704,   2.5       ],\n",
       "       [ 27.18442917,   0.80000001],\n",
       "       [ 61.66720963,   1.20000005],\n",
       "       [ 79.25263214,   0.69999999],\n",
       "       [ 28.62896919,  42.70000076],\n",
       "       [ 72.10182953,   4.80000019],\n",
       "       [  8.14472961,   8.        ],\n",
       "       [ 60.58628845,   0.40000001],\n",
       "       [ 82.22757721,   0.30000001],\n",
       "       [ 24.36532974,   3.4000001 ],\n",
       "       [ 30.65633011,   0.60000002],\n",
       "       [ 54.8990593 ,   4.80000019],\n",
       "       [ 67.79532623,   1.70000005],\n",
       "       [ 61.45817184,   0.30000001],\n",
       "       [ 45.53358078,   2.9000001 ],\n",
       "       [ 80.84335327,   0.89999998],\n",
       "       [ 86.56501007,  26.5       ],\n",
       "       [ 54.52098083,   1.89999998],\n",
       "       [ 76.11464691,   9.19999981],\n",
       "       [ 48.56230927,   6.19999981],\n",
       "       [ 18.99403954,  30.79999924],\n",
       "       [ 85.54598999,   0.80000001],\n",
       "       [ 17.16243935,   3.29999995],\n",
       "       [ 10.17778969,  21.60000038],\n",
       "       [ 55.49990082,   0.60000002],\n",
       "       [ 51.56916046,   4.9000001 ],\n",
       "       [ 69.30194855,   4.30000019],\n",
       "       [ 48.17982101,   0.60000002]], dtype=float32)"
      ]
     },
     "execution_count": 11,
     "metadata": {},
     "output_type": "execute_result"
    }
   ],
   "source": [
    "blue"
   ]
  },
  {
   "cell_type": "code",
   "execution_count": 12,
   "metadata": {
    "collapsed": false
   },
   "outputs": [
    {
     "name": "stdout",
     "output_type": "stream",
     "text": [
      "Predicted class is:  [ 1.] Blue\n"
     ]
    },
    {
     "data": {
      "image/png": "[encoded data removed]",
      "text/plain": [
       "<matplotlib.figure.Figure at 0xc9b090b940>"
      ]
     },
     "metadata": {},
     "output_type": "display_data"
    }
   ],
   "source": [
    "# Plot the red series as triangles\n",
    "plt.scatter(red[:,0],red[:,1],80,'r','^', label=\"0\")\n",
    "\n",
    "# Plot the blue series as squares\n",
    "blue = trainData[responses.ravel()==1]\n",
    "plt.scatter(blue[:,0],blue[:,1],80,'b','s', label=\"1\")\n",
    "\n",
    "# Plot the newcomer as a green circle\n",
    "newcomer = np.random.randint(0,100,(1,2)).astype(np.float32)\n",
    "plt.scatter(newcomer[:,0],newcomer[:,1],80,'g','o')\n",
    "\n",
    "# Who is this newcomer closest to\n",
    "knn = neighbors.KNeighborsClassifier(n_neighbors=3)\n",
    "knn.fit(trainData,responses.ravel())\n",
    "\n",
    "prediction = knn.predict(newcomer)\n",
    "print(\"Predicted class is: \",prediction, colorCode[prediction[0]])\n",
    "\n",
    "plt.legend(loc='upper right')\n",
    "\n",
    "plt.show()"
   ]
  },
  {
   "cell_type": "code",
   "execution_count": 25,
   "metadata": {
    "collapsed": false
   },
   "outputs": [
    {
     "name": "stdout",
     "output_type": "stream",
     "text": [
      "Predicted 5 new classes are (0 for Red, 1 for Blue): [1 0 1 0 0]\n"
     ]
    },
    {
     "data": {
      "image/png": "[encoded data removed]",
      "text/plain": [
       "<matplotlib.figure.Figure at 0xc9b0a8e4a8>"
      ]
     },
     "metadata": {},
     "output_type": "display_data"
    }
   ],
   "source": [
    "plt.scatter(red[:,0],red[:,1],80,'r','^', label=\"0\")\n",
    "\n",
    "plt.scatter(blue[:,0],blue[:,1],80,'b','s', label=\"1\")\n",
    "\n",
    "# nc=5 more new comers\n",
    "nc = 5\n",
    "newcomersx = np.random.randint(0,110,(nc,1)).astype(np.float32)\n",
    "newcomersy = np.random.randint(0,45,(nc,1)).astype(np.float32)\n",
    "\n",
    "newcomers = []\n",
    "for i in range (0, nc):\n",
    "    mynewarray = []\n",
    "    mynewarray.append(newcomersx[i][0])\n",
    "    mynewarray.append(newcomersy[i][0])\n",
    "    newcomers.append(mynewarray)\n",
    "newcomers = np.array(newcomers)\n",
    "newcomers = newcomers.astype(np.float32)\n",
    "\n",
    "\n",
    "plt.scatter(newcomers[:,0],newcomers[:,1],80,'g','o')\n",
    "\n",
    "knn = neighbors.KNeighborsClassifier(n_neighbors=3, weights='uniform', metric='minkowski', p=2)\n",
    "knn.fit(trainData,responses.ravel())\n",
    "\n",
    "# The results also will contain nc labels.\n",
    "predictions = knn.predict(newcomers).astype(int)\n",
    "print(\"Predicted\",nc,\"new classes are (0 for Red, 1 for Blue):\",predictions,)\n",
    "\n",
    "for label, x, y in zip(predictions, newcomers[:, 0], newcomers[:, 1]):\n",
    "    plt.annotate(label,xy=(x, y), xytext=(-20, 20),\n",
    "        textcoords='offset points', ha='right', va='bottom',\n",
    "        bbox=dict(boxstyle='round,pad=0.5', fc='yellow', alpha=0.5),\n",
    "        arrowprops=dict(arrowstyle = '->', connectionstyle='arc3,rad=0'))\n",
    "\n",
    "plt.show()"
   ]
  },
  {
   "cell_type": "code",
   "execution_count": null,
   "metadata": {
    "collapsed": true
   },
   "outputs": [],
   "source": []
  }
 ],
 "metadata": {
  "kernelspec": {
   "display_name": "Python 3",
   "language": "python",
   "name": "python3"
  },
  "language_info": {
   "codemirror_mode": {
    "name": "ipython",
    "version": 3
   },
   "file_extension": ".py",
   "mimetype": "text/x-python",
   "name": "python",
   "nbconvert_exporter": "python",
   "pygments_lexer": "ipython3",
   "version": "3.6.0"
  }
 },
 "nbformat": 4,
 "nbformat_minor": 2
}
